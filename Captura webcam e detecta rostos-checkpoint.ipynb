{
 "cells": [
  {
   "cell_type": "code",
   "execution_count": 24,
   "metadata": {},
   "outputs": [],
   "source": [
    "%matplotlib inline\n",
    "import cv2, time\n",
    "\n",
    "import matplotlib.pyplot as plt"
   ]
  },
  {
   "cell_type": "code",
   "execution_count": 25,
   "metadata": {},
   "outputs": [],
   "source": [
    "def convertToRGB(img): \n",
    "    return cv2.cvtColor(img, cv2.COLOR_BGR2RGB)"
   ]
  },
  {
   "cell_type": "code",
   "execution_count": 83,
   "metadata": {},
   "outputs": [],
   "source": [
    "haar_face_cascade = cv2.CascadeClassifier('Haar.xml')\n",
    "lbpcascade_frontalface = cv2.CascadeClassifier('lbpcascade_frontalface.xml')"
   ]
  },
  {
   "cell_type": "code",
   "execution_count": 97,
   "metadata": {},
   "outputs": [],
   "source": [
    "def videoCamera():\n",
    "\n",
    "    #Create video object for external camera",
    "    video = cv2.VideoCapture(0)\n",
    "    a=0\n",
    "    while True:\n",
    "        a = a + 1\n",
    "        #Create frame object\n",
    "\n",
    "        check,frame = video.read()\n",
    "\n",
    "        #print(check)\n",
    "        #print(frame)\n",
    "\n",
    "#Grayscale converter\n",
    "        #frame = cv2.cvtColor(frame, cv2.COLOR_BGR2GRAY)\n",
    "        \n",
    "#call our function to detect faces \n",
    "        #faces_detected_img = detect_faces(haar_face_cascade, frame)  \n",
    "        faces_detected_img = detect_faces(lbpcascade_frontalface,frame)\n",
    "#convert image to RGB and show image \n",
    "        #plt.imshow(convertToRGB(faces_detected_img))     \n",
    "        cv2.imshow(\"Capturing \", convertToRGB(faces_detected_img))\n",
    "        \n",
    "        \n",
    "        
    "\n",
    "        #Wait key 'Q' to exit\n",
    "        key = cv2.waitKey(1)\n",
    "        if key == ord('q'):\n",
    "            break\n",
    "\n",
    "    print(a)\n",
    "    #Turn off camera and destroy opened window\n",
    "\n",
    "    video.release()\n",
    "    cv2.destroyAllWindows()"
   ]
  },
  {
   "cell_type": "code",
   "execution_count": 91,
   "metadata": {},
   "outputs": [],
   "source": [
    "def detect_faces(f_cascade, colored_img, scaleFactor = 1.03):\n",
    " #just making a copy of image passed, so that passed image is not changed \n",
    "    img_copy = colored_img.copy()          \n",
    " \n",
    " #convert the test image to gray image as opencv face detector expects gray images\n",
    "    gray = cv2.cvtColor(img_copy, cv2.COLOR_BGR2GRAY)          \n",
    " \n",
    " #let's detect multiscale (some images may be closer to camera than others) images\n",
    "    faces = f_cascade.detectMultiScale(gray, scaleFactor=scaleFactor, minNeighbors=5);          \n",
    " \n",
    " #go over list of faces and draw them as rectangles on original colored img\n",
    "    for (x, y, w, h) in faces:\n",
    "        cv2.rectangle(img_copy, (x, y), (x+w, y+h), (0, 255, 0), 2)              \n",
    " \n",
    "    return img_copy"
   ]
  },
  {
   "cell_type": "code",
   "execution_count": 99,
   "metadata": {
    "scrolled": false
   },
   "outputs": [
    {
     "name": "stdout",
     "output_type": "stream",
     "text": [
      "154\n"
     ]
    }
   ],
   "source": [
    "videoCamera()"
   ]
  }
 ],
 "metadata": {
  "kernelspec": {
   "display_name": "Python 3",
   "language": "python",
   "name": "python3"
  },
  "language_info": {
   "codemirror_mode": {
    "name": "ipython",
    "version": 3
   },
   "file_extension": ".py",
   "mimetype": "text/x-python",
   "name": "python",
   "nbconvert_exporter": "python",
   "pygments_lexer": "ipython3",
   "version": "3.6.1"
  }
 },
 "nbformat": 4,
 "nbformat_minor": 2
}
